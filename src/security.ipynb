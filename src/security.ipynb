{
 "cells": [
  {
   "cell_type": "code",
   "execution_count": 23,
   "metadata": {},
   "outputs": [],
   "source": [
    "import pandas as pd\n",
    "import numpy as np"
   ]
  },
  {
   "cell_type": "code",
   "execution_count": 24,
   "metadata": {},
   "outputs": [],
   "source": [
    "# toggl export path\n",
    "toggl_path = '../data/F2023.unclean'"
   ]
  },
  {
   "cell_type": "code",
   "execution_count": 25,
   "metadata": {},
   "outputs": [
    {
     "name": "stdout",
     "output_type": "stream",
     "text": [
      "Client         409\n",
      "Project        419\n",
      "Task             0\n",
      "Description    419\n",
      "Billable       419\n",
      "Start date     419\n",
      "Start time     419\n",
      "End date       419\n",
      "End time       419\n",
      "Duration       419\n",
      "Tags           419\n",
      "Amount ()        0\n",
      "dtype: int64\n"
     ]
    }
   ],
   "source": [
    "# load in the data\n",
    "try:\n",
    "    df = pd.read_csv(toggl_path)\n",
    "    df = df.drop(columns = ['Email', 'User'])\n",
    "\n",
    "    print(df.count())\n",
    "    # save csv\n",
    "    df.to_csv('../data/F2023.csv', index=False)\n",
    "except: \n",
    "    print(\"Error: File not found\")"
   ]
  },
  {
   "cell_type": "code",
   "execution_count": null,
   "metadata": {},
   "outputs": [],
   "source": []
  }
 ],
 "metadata": {
  "kernelspec": {
   "display_name": "base",
   "language": "python",
   "name": "python3"
  },
  "language_info": {
   "codemirror_mode": {
    "name": "ipython",
    "version": 3
   },
   "file_extension": ".py",
   "mimetype": "text/x-python",
   "name": "python",
   "nbconvert_exporter": "python",
   "pygments_lexer": "ipython3",
   "version": "3.9.12"
  }
 },
 "nbformat": 4,
 "nbformat_minor": 2
}
