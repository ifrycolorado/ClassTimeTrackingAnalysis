{
 "cells": [
  {
   "cell_type": "code",
   "execution_count": 38,
   "metadata": {},
   "outputs": [],
   "source": [
    "import pandas as pd\n",
    "import numpy as np"
   ]
  },
  {
   "cell_type": "code",
   "execution_count": 39,
   "metadata": {},
   "outputs": [],
   "source": [
    "SEMESTER = 'S2023'\n",
    "\n",
    "toggl_path = f'../data/{SEMESTER}.unclean'"
   ]
  },
  {
   "cell_type": "code",
   "execution_count": 40,
   "metadata": {},
   "outputs": [
    {
     "name": "stdout",
     "output_type": "stream",
     "text": [
      "Client         339\n",
      "Project        339\n",
      "Task             0\n",
      "Description    339\n",
      "Billable       339\n",
      "Start date     339\n",
      "Start time     339\n",
      "End date       339\n",
      "End time       339\n",
      "Duration       339\n",
      "Tags           339\n",
      "Amount ()        0\n",
      "dtype: int64\n"
     ]
    }
   ],
   "source": [
    "# load in the data\n",
    "try:\n",
    "    df = pd.read_csv(toggl_path)\n",
    "    df = df.drop(columns = ['Email', 'User'])\n",
    "\n",
    "    print(df.count())\n",
    "    # save csv\n",
    "    df.to_csv(f'../data/{SEMESTER}.csv', index=False)\n",
    "except: \n",
    "    print(\"Error: File not found\")"
   ]
  }
 ],
 "metadata": {
  "kernelspec": {
   "display_name": "base",
   "language": "python",
   "name": "python3"
  },
  "language_info": {
   "codemirror_mode": {
    "name": "ipython",
    "version": 3
   },
   "file_extension": ".py",
   "mimetype": "text/x-python",
   "name": "python",
   "nbconvert_exporter": "python",
   "pygments_lexer": "ipython3",
   "version": "3.9.12"
  }
 },
 "nbformat": 4,
 "nbformat_minor": 2
}
