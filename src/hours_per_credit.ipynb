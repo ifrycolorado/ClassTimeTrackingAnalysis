{
 "cells": [
  {
   "cell_type": "code",
   "execution_count": 49,
   "metadata": {},
   "outputs": [],
   "source": [
    "# import \n",
    "import pandas as pd\n",
    "import matplotlib.pyplot as plt\n",
    "import os\n",
    "import re"
   ]
  },
  {
   "cell_type": "code",
   "execution_count": 50,
   "metadata": {},
   "outputs": [],
   "source": [
    "# constant variables\n",
    "COLOR = 'skyblue'\n",
    "ROTATION = 15\n",
    "\n",
    "# plt specifics\n",
    "plt.style.use('seaborn-notebook')\n",
    "plt.rcParams['figure.figsize'] = (14, 6)\n",
    "\n",
    "font = {'family': 'sans-serif', \n",
    "        'style': 'normal', \n",
    "        'weight': 'bold', \n",
    "        'size': 15}\n",
    "plt.rc('font', **font)"
   ]
  },
  {
   "cell_type": "code",
   "execution_count": 51,
   "metadata": {},
   "outputs": [],
   "source": [
    "# Define a function to parse the file\n",
    "def parse_course_file(filename):\n",
    "    with open(filename, 'r') as file:\n",
    "        lines = file.readlines()\n",
    "\n",
    "    data = []\n",
    "    for i in range(0, len(lines), 8):\n",
    "        course_info = {}\n",
    "        \n",
    "        # Extract course name\n",
    "        course_line = lines[i].strip()\n",
    "        course_name_match = re.search(r'COURSE: (.+) F\\d{4}', course_line)\n",
    "        if course_name_match:\n",
    "            course_info['Course Name'] = course_name_match.group(1)\n",
    "        else:\n",
    "            # Handle the case where the pattern does not match\n",
    "            course_info['Course Name'] = None\n",
    "\n",
    "        # Other extraction steps...\n",
    "\n",
    "    return pd.DataFrame(data)"
   ]
  },
  {
   "cell_type": "code",
   "execution_count": 52,
   "metadata": {},
   "outputs": [],
   "source": [
    "# get list of files in log directory\n",
    "log_files = [\"../logs/\" + log for log in os.listdir(f\"../logs\") if \"_raw_stats\" in log]"
   ]
  },
  {
   "cell_type": "code",
   "execution_count": 53,
   "metadata": {},
   "outputs": [
    {
     "name": "stdout",
     "output_type": "stream",
     "text": [
      "['../logs/F2023_raw_stats.txt', '../logs/S2023_raw_stats.txt']\n"
     ]
    }
   ],
   "source": [
    "print(log_files)"
   ]
  },
  {
   "cell_type": "code",
   "execution_count": 54,
   "metadata": {},
   "outputs": [
    {
     "data": {
      "text/html": [
       "<div>\n",
       "<style scoped>\n",
       "    .dataframe tbody tr th:only-of-type {\n",
       "        vertical-align: middle;\n",
       "    }\n",
       "\n",
       "    .dataframe tbody tr th {\n",
       "        vertical-align: top;\n",
       "    }\n",
       "\n",
       "    .dataframe thead th {\n",
       "        text-align: right;\n",
       "    }\n",
       "</style>\n",
       "<table border=\"1\" class=\"dataframe\">\n",
       "  <thead>\n",
       "    <tr style=\"text-align: right;\">\n",
       "      <th></th>\n",
       "      <th>Course Name</th>\n",
       "      <th>Total</th>\n",
       "      <th>Per Credit</th>\n",
       "    </tr>\n",
       "  </thead>\n",
       "  <tbody>\n",
       "    <tr>\n",
       "      <th>1</th>\n",
       "      <td>(HNRS435A) F2023</td>\n",
       "      <td>69.66</td>\n",
       "      <td>1.45</td>\n",
       "    </tr>\n",
       "    <tr>\n",
       "      <th>2</th>\n",
       "      <td>(CSCI306) F2023</td>\n",
       "      <td>55.98</td>\n",
       "      <td>1.17</td>\n",
       "    </tr>\n",
       "    <tr>\n",
       "      <th>0</th>\n",
       "      <td>(CSCI406) F2023</td>\n",
       "      <td>55.60</td>\n",
       "      <td>1.16</td>\n",
       "    </tr>\n",
       "    <tr>\n",
       "      <th>5</th>\n",
       "      <td>(HNRS315) S2023</td>\n",
       "      <td>47.41</td>\n",
       "      <td>0.99</td>\n",
       "    </tr>\n",
       "    <tr>\n",
       "      <th>3</th>\n",
       "      <td>(CSCI442) F2023</td>\n",
       "      <td>41.86</td>\n",
       "      <td>0.87</td>\n",
       "    </tr>\n",
       "    <tr>\n",
       "      <th>6</th>\n",
       "      <td>(CHGN121) S2023</td>\n",
       "      <td>33.67</td>\n",
       "      <td>0.70</td>\n",
       "    </tr>\n",
       "    <tr>\n",
       "      <th>7</th>\n",
       "      <td>(CSCI403) S2023</td>\n",
       "      <td>33.57</td>\n",
       "      <td>0.70</td>\n",
       "    </tr>\n",
       "    <tr>\n",
       "      <th>8</th>\n",
       "      <td>(HASS327) S2023</td>\n",
       "      <td>33.79</td>\n",
       "      <td>0.70</td>\n",
       "    </tr>\n",
       "    <tr>\n",
       "      <th>4</th>\n",
       "      <td>(CSCI341) S2023</td>\n",
       "      <td>29.20</td>\n",
       "      <td>0.61</td>\n",
       "    </tr>\n",
       "  </tbody>\n",
       "</table>\n",
       "</div>"
      ],
      "text/plain": [
       "        Course Name  Total  Per Credit\n",
       "1  (HNRS435A) F2023  69.66        1.45\n",
       "2   (CSCI306) F2023  55.98        1.17\n",
       "0   (CSCI406) F2023  55.60        1.16\n",
       "5   (HNRS315) S2023  47.41        0.99\n",
       "3   (CSCI442) F2023  41.86        0.87\n",
       "6   (CHGN121) S2023  33.67        0.70\n",
       "7   (CSCI403) S2023  33.57        0.70\n",
       "8   (HASS327) S2023  33.79        0.70\n",
       "4   (CSCI341) S2023  29.20        0.61"
      ]
     },
     "metadata": {},
     "output_type": "display_data"
    }
   ],
   "source": [
    "# define df\n",
    "stats_df = pd.DataFrame(columns=[\"Course Name\", \"Total\", \"Per Credit\"])\n",
    "\n",
    "# find classes and stats\n",
    "for log_file in log_files:\n",
    "    f = open(log_file, \"r\")\n",
    "\n",
    "    # split f by lines that are empty\n",
    "    lines = f.read().split(\"\\n\\n\")\n",
    "\n",
    "    for i in range(len(lines)):\n",
    "        if i % 2 != 0 and lines[i] != \"\" and lines[i] != \"\\n\" and lines[i] != \" \": \n",
    "            analysis = lines[i].split(\"\\n\")\n",
    "            course = analysis[0][analysis[0].index(\"(\"):]\n",
    "            total = float(analysis[1].split(\":\")[1].strip().split(\" \")[0])\n",
    "            try: \n",
    "                per_credit = float(analysis[3].split(\" : \")[1].split(\" \")[0])\n",
    "            except:\n",
    "                print(\"ERROR\", analysis)\n",
    "            stats_df.loc[len(stats_df)] = [course, total, per_credit]\n",
    "        \n",
    "# display sorted df by per credit\n",
    "stats_df.sort_values(by=[\"Per Credit\"], inplace=True, ascending=False)\n",
    "display(stats_df)"
   ]
  },
  {
   "cell_type": "code",
   "execution_count": 58,
   "metadata": {},
   "outputs": [
    {
     "data": {
      "image/png": "[encoded data removed]",
      "text/plain": [
       "<Figure size 1008x720 with 1 Axes>"
      ]
     },
     "metadata": {
      "needs_background": "light"
     },
     "output_type": "display_data"
    }
   ],
   "source": [
    "# create bar chart of stats_df sorted by per credit\n",
    "plt.figure(figsize=(14, 10))\n",
    "bars = plt.bar(stats_df[\"Course Name\"], stats_df[\"Per Credit\"], color=COLOR, width=0.4)\n",
    "\n",
    "# plot line of average per credit\n",
    "plt.axhline(y=stats_df[\"Per Credit\"].mean(), color='r', linestyle='--')\n",
    "\n",
    "plt.xticks(rotation=ROTATION)\n",
    "plt.xlabel(\"Course Name\")\n",
    "plt.ylabel(\"Per Credit\")\n",
    "plt.ylim(0, 3.2)\n",
    "plt.title(\"Per Credit of Courses\")\n",
    "for bar in bars:\n",
    "        hours = int(bar.get_height())\n",
    "        minutes = int((bar.get_height() - hours) * 60)\n",
    "        label = f\"{hours}h {minutes}m\"\n",
    "        plt.text(bar.get_x() + bar.get_width() / 2.0, bar.get_height(), label, ha='center', va='bottom')\n",
    "plt.savefig(f\"../images/hours_per_credit.png\", transparent=False, format='png', dpi=300)\n",
    "plt.show()\n"
   ]
  },
  {
   "cell_type": "code",
   "execution_count": 56,
   "metadata": {},
   "outputs": [],
   "source": [
    "# save stats_df to csv\n",
    "stats_df.to_csv(\"../data/hour_per_credit.csv\", index=False)"
   ]
  }
 ],
 "metadata": {
  "kernelspec": {
   "display_name": "base",
   "language": "python",
   "name": "python3"
  },
  "language_info": {
   "codemirror_mode": {
    "name": "ipython",
    "version": 3
   },
   "file_extension": ".py",
   "mimetype": "text/x-python",
   "name": "python",
   "nbconvert_exporter": "python",
   "pygments_lexer": "ipython3",
   "version": "3.9.12"
  }
 },
 "nbformat": 4,
 "nbformat_minor": 2
}
